{
 "cells": [
  {
   "cell_type": "code",
   "execution_count": 1,
   "id": "oEIFncEcBfYt",
   "metadata": {
    "cellUniqueIdByVincent": "1d30e",
    "colab": {
     "base_uri": "https://localhost:8080/"
    },
    "id": "oEIFncEcBfYt",
    "outputId": "314bbc31-6380-4c32-c513-2e67ec808f71"
   },
   "outputs": [
    {
     "name": "stdout",
     "output_type": "stream",
     "text": [
      "Cloning into 'Jamming_Detection_SDR'...\n",
      "remote: Enumerating objects: 47, done.\u001b[K\n",
      "remote: Total 47 (delta 0), reused 0 (delta 0), pack-reused 47 (from 1)\u001b[K\n",
      "Receiving objects: 100% (47/47), 41.71 MiB | 10.66 MiB/s, done.\n",
      "Resolving deltas: 100% (10/10), done.\n"
     ]
    }
   ],
   "source": [
    "!git clone https://github.com/OmarElmelegy/Jamming_Detection_SDR.git"
   ]
  },
  {
   "cell_type": "code",
   "execution_count": 2,
   "id": "5SdR4w28EcUt",
   "metadata": {
    "cellUniqueIdByVincent": "ab8b3",
    "colab": {
     "base_uri": "https://localhost:8080/"
    },
    "id": "5SdR4w28EcUt",
    "outputId": "bb941e85-3759-4362-ffd8-6d7899506057"
   },
   "outputs": [
    {
     "name": "stdout",
     "output_type": "stream",
     "text": [
      "Current working directory: /content\n"
     ]
    }
   ],
   "source": [
    "import numpy as np\n",
    "import pandas as pd\n",
    "import matplotlib.pyplot as plt\n",
    "import tensorflow as tf\n",
    "from tensorflow.keras.models import load_model\n",
    "from sklearn.metrics import accuracy_score, confusion_matrix, classification_report\n",
    "import random\n",
    "import os\n",
    "\n",
    "# Set random seed for reproducibility\n",
    "np.random.seed(42)\n",
    "random.seed(42)\n",
    "tf.random.set_seed(42)\n",
    "\n",
    "# Print current working directory to understand file paths\n",
    "print(\"Current working directory:\", os.getcwd())"
   ]
  },
  {
   "cell_type": "code",
   "execution_count": 10,
   "id": "7TFu1I9dEcUv",
   "metadata": {
    "cellUniqueIdByVincent": "cd875",
    "colab": {
     "base_uri": "https://localhost:8080/"
    },
    "id": "7TFu1I9dEcUv",
    "outputId": "ee3a46ae-421c-494f-ebfb-37996a4cdb9d"
   },
   "outputs": [
    {
     "name": "stdout",
     "output_type": "stream",
     "text": [
      "Raw Normal data shape: (236288,)\n",
      "Raw Constant Jammer data shape: (231192,)\n",
      "Raw Pulsed Jammer data shape: (232258,)\n",
      "Reshaped Normal signals: (236, 1000)\n",
      "Reshaped Constant Jammer signals: (231, 1000)\n",
      "Reshaped Pulsed Jammer signals: (232, 1000)\n",
      "X_test shape before final reshape for Conv1D: (600, 1000)\n",
      "y_test (numeric) shape: (600,)\n",
      "Class distribution in y_test: [200 200 200]\n"
     ]
    }
   ],
   "source": [
    "# Define paths to the dataset files\n",
    "normal_path = \"./Jamming_Detection_SDR/Dataset/test/Test_Rssi_Normal.txt\"\n",
    "cj_path = \"./Jamming_Detection_SDR/Dataset/test/Test_Rssi_CJ.txt\"\n",
    "pj_path = \"./Jamming_Detection_SDR/Dataset/test/Test_Rssi_PJ.txt\"\n",
    "\n",
    "# Function to load the data\n",
    "def load_data(file_path):\n",
    "    try:\n",
    "        data = np.loadtxt(file_path)\n",
    "        return data\n",
    "    except Exception as e:\n",
    "        print(f\"Error loading {file_path}: {e}\")\n",
    "        return np.array([])\n",
    "\n",
    "# Load the datasets\n",
    "normal_data_raw = load_data(normal_path)\n",
    "cj_data_raw = load_data(cj_path)\n",
    "pj_data_raw = load_data(pj_path)\n",
    "\n",
    "print(f\"Raw Normal data shape: {normal_data_raw.shape}\")\n",
    "print(f\"Raw Constant Jammer data shape: {cj_data_raw.shape}\")\n",
    "print(f\"Raw Pulsed Jammer data shape: {pj_data_raw.shape}\")\n",
    "\n",
    "# --- Corrected Data Preparation Logic ---\n",
    "num_samples_per_signal = 1000 # Sequence length, same as in training notebook\n",
    "\n",
    "# Calculate how many complete signals we can extract\n",
    "normal_signals_count = normal_data_raw.shape[0] // num_samples_per_signal\n",
    "cj_signals_count = cj_data_raw.shape[0] // num_samples_per_signal\n",
    "pj_signals_count = pj_data_raw.shape[0] // num_samples_per_signal\n",
    "\n",
    "# Reshape so each row is one signal of length 1000\n",
    "normal_data_reshaped = normal_data_raw[:normal_signals_count * num_samples_per_signal].reshape((normal_signals_count, num_samples_per_signal))\n",
    "cj_data_reshaped = cj_data_raw[:cj_signals_count * num_samples_per_signal].reshape((cj_signals_count, num_samples_per_signal))\n",
    "pj_data_reshaped = pj_data_raw[:pj_signals_count * num_samples_per_signal].reshape((pj_signals_count, num_samples_per_signal))\n",
    "\n",
    "print(f\"Reshaped Normal signals: {normal_data_reshaped.shape}\")\n",
    "print(f\"Reshaped Constant Jammer signals: {cj_data_reshaped.shape}\")\n",
    "print(f\"Reshaped Pulsed Jammer signals: {pj_data_reshaped.shape}\")\n",
    "\n",
    "# Determine number of test samples per class\n",
    "# Aiming for a balanced test set of around 200 total samples, similar to your original notebook 2\n",
    "num_test_samples_per_class = 200 # This will give 66*3 = 198 samples\n",
    "\n",
    "# Ensure we don't request more samples than available from any class\n",
    "num_test_samples_per_class = min(num_test_samples_per_class, normal_signals_count, cj_signals_count, pj_signals_count)\n",
    "\n",
    "if num_test_samples_per_class == 0:\n",
    "    raise ValueError(f\"Not enough reshaped signals (with {num_samples_per_signal} samples each) to create a test set. Check raw data sizes.\")\n",
    "\n",
    "# Select random sequences for each class for the test set\n",
    "# Note: Notebook 1 used a train/test split. Here we are creating a new test set.\n",
    "# If you want to use the exact test set from Notebook 1, you'd need to save/load those specific indices or data.\n",
    "# For now, we'll select random sequences from the available reshaped data.\n",
    "normal_indices_test = np.random.choice(normal_data_reshaped.shape[0], num_test_samples_per_class, replace=False)\n",
    "cj_indices_test = np.random.choice(cj_data_reshaped.shape[0], num_test_samples_per_class, replace=False)\n",
    "pj_indices_test = np.random.choice(pj_data_reshaped.shape[0], num_test_samples_per_class, replace=False)\n",
    "\n",
    "normal_test_samples = normal_data_reshaped[normal_indices_test]\n",
    "cj_test_samples = cj_data_reshaped[cj_indices_test]\n",
    "pj_test_samples = pj_data_reshaped[pj_indices_test]\n",
    "\n",
    "# Create labels (0: Normal, 1: Constant Jammer, 2: Pulsed Jammer)\n",
    "normal_labels_test = np.zeros(num_test_samples_per_class, dtype=int)\n",
    "cj_labels_test = np.ones(num_test_samples_per_class, dtype=int)\n",
    "pj_labels_test = np.full(num_test_samples_per_class, 2, dtype=int)\n",
    "\n",
    "# Combine samples and labels for X_test and y_test\n",
    "X_test = np.concatenate([normal_test_samples, cj_test_samples, pj_test_samples], axis=0)\n",
    "y_test = np.concatenate([normal_labels_test, cj_labels_test, pj_labels_test]) # This is y_test_numeric\n",
    "\n",
    "print(f\"X_test shape before final reshape for Conv1D: {X_test.shape}\")\n",
    "print(f\"y_test (numeric) shape: {y_test.shape}\")\n",
    "print(f\"Class distribution in y_test: {np.bincount(y_test.astype(int))}\")"
   ]
  },
  {
   "cell_type": "code",
   "execution_count": 11,
   "id": "VIL-1MRKEcUw",
   "metadata": {
    "cellUniqueIdByVincent": "e919e",
    "colab": {
     "base_uri": "https://localhost:8080/",
     "height": 385
    },
    "id": "VIL-1MRKEcUw",
    "outputId": "dea61f88-98e3-489c-9886-d3a195e4eb69"
   },
   "outputs": [
    {
     "name": "stderr",
     "output_type": "stream",
     "text": [
      "WARNING:absl:Compiled the loaded model, but the compiled metrics have yet to be built. `model.compile_metrics` will be empty until you train or evaluate the model.\n"
     ]
    },
    {
     "name": "stdout",
     "output_type": "stream",
     "text": [
      "Successfully loaded model from ./Jamming_Detection_SDR/model/model_NewDataset.h5\n"
     ]
    },
    {
     "data": {
      "text/html": [
       "<pre style=\"white-space:pre;overflow-x:auto;line-height:normal;font-family:Menlo,'DejaVu Sans Mono',consolas,'Courier New',monospace\"><span style=\"font-weight: bold\">Model: \"sequential\"</span>\n",
       "</pre>\n"
      ],
      "text/plain": [
       "\u001b[1mModel: \"sequential\"\u001b[0m\n"
      ]
     },
     "metadata": {},
     "output_type": "display_data"
    },
    {
     "data": {
      "text/html": [
       "<pre style=\"white-space:pre;overflow-x:auto;line-height:normal;font-family:Menlo,'DejaVu Sans Mono',consolas,'Courier New',monospace\">┏━━━━━━━━━━━━━━━━━━━━━━━━━━━━━━━━━┳━━━━━━━━━━━━━━━━━━━━━━━━┳━━━━━━━━━━━━━━━┓\n",
       "┃<span style=\"font-weight: bold\"> Layer (type)                    </span>┃<span style=\"font-weight: bold\"> Output Shape           </span>┃<span style=\"font-weight: bold\">       Param # </span>┃\n",
       "┡━━━━━━━━━━━━━━━━━━━━━━━━━━━━━━━━━╇━━━━━━━━━━━━━━━━━━━━━━━━╇━━━━━━━━━━━━━━━┩\n",
       "│ conv1d (<span style=\"color: #0087ff; text-decoration-color: #0087ff\">Conv1D</span>)                 │ (<span style=\"color: #00d7ff; text-decoration-color: #00d7ff\">None</span>, <span style=\"color: #00af00; text-decoration-color: #00af00\">998</span>, <span style=\"color: #00af00; text-decoration-color: #00af00\">128</span>)       │           <span style=\"color: #00af00; text-decoration-color: #00af00\">512</span> │\n",
       "├─────────────────────────────────┼────────────────────────┼───────────────┤\n",
       "│ dropout (<span style=\"color: #0087ff; text-decoration-color: #0087ff\">Dropout</span>)               │ (<span style=\"color: #00d7ff; text-decoration-color: #00d7ff\">None</span>, <span style=\"color: #00af00; text-decoration-color: #00af00\">998</span>, <span style=\"color: #00af00; text-decoration-color: #00af00\">128</span>)       │             <span style=\"color: #00af00; text-decoration-color: #00af00\">0</span> │\n",
       "├─────────────────────────────────┼────────────────────────┼───────────────┤\n",
       "│ conv1d_1 (<span style=\"color: #0087ff; text-decoration-color: #0087ff\">Conv1D</span>)               │ (<span style=\"color: #00d7ff; text-decoration-color: #00d7ff\">None</span>, <span style=\"color: #00af00; text-decoration-color: #00af00\">996</span>, <span style=\"color: #00af00; text-decoration-color: #00af00\">128</span>)       │        <span style=\"color: #00af00; text-decoration-color: #00af00\">49,280</span> │\n",
       "├─────────────────────────────────┼────────────────────────┼───────────────┤\n",
       "│ dropout_1 (<span style=\"color: #0087ff; text-decoration-color: #0087ff\">Dropout</span>)             │ (<span style=\"color: #00d7ff; text-decoration-color: #00d7ff\">None</span>, <span style=\"color: #00af00; text-decoration-color: #00af00\">996</span>, <span style=\"color: #00af00; text-decoration-color: #00af00\">128</span>)       │             <span style=\"color: #00af00; text-decoration-color: #00af00\">0</span> │\n",
       "├─────────────────────────────────┼────────────────────────┼───────────────┤\n",
       "│ flatten (<span style=\"color: #0087ff; text-decoration-color: #0087ff\">Flatten</span>)               │ (<span style=\"color: #00d7ff; text-decoration-color: #00d7ff\">None</span>, <span style=\"color: #00af00; text-decoration-color: #00af00\">127488</span>)         │             <span style=\"color: #00af00; text-decoration-color: #00af00\">0</span> │\n",
       "├─────────────────────────────────┼────────────────────────┼───────────────┤\n",
       "│ dense (<span style=\"color: #0087ff; text-decoration-color: #0087ff\">Dense</span>)                   │ (<span style=\"color: #00d7ff; text-decoration-color: #00d7ff\">None</span>, <span style=\"color: #00af00; text-decoration-color: #00af00\">3</span>)              │       <span style=\"color: #00af00; text-decoration-color: #00af00\">382,467</span> │\n",
       "└─────────────────────────────────┴────────────────────────┴───────────────┘\n",
       "</pre>\n"
      ],
      "text/plain": [
       "┏━━━━━━━━━━━━━━━━━━━━━━━━━━━━━━━━━┳━━━━━━━━━━━━━━━━━━━━━━━━┳━━━━━━━━━━━━━━━┓\n",
       "┃\u001b[1m \u001b[0m\u001b[1mLayer (type)                   \u001b[0m\u001b[1m \u001b[0m┃\u001b[1m \u001b[0m\u001b[1mOutput Shape          \u001b[0m\u001b[1m \u001b[0m┃\u001b[1m \u001b[0m\u001b[1m      Param #\u001b[0m\u001b[1m \u001b[0m┃\n",
       "┡━━━━━━━━━━━━━━━━━━━━━━━━━━━━━━━━━╇━━━━━━━━━━━━━━━━━━━━━━━━╇━━━━━━━━━━━━━━━┩\n",
       "│ conv1d (\u001b[38;5;33mConv1D\u001b[0m)                 │ (\u001b[38;5;45mNone\u001b[0m, \u001b[38;5;34m998\u001b[0m, \u001b[38;5;34m128\u001b[0m)       │           \u001b[38;5;34m512\u001b[0m │\n",
       "├─────────────────────────────────┼────────────────────────┼───────────────┤\n",
       "│ dropout (\u001b[38;5;33mDropout\u001b[0m)               │ (\u001b[38;5;45mNone\u001b[0m, \u001b[38;5;34m998\u001b[0m, \u001b[38;5;34m128\u001b[0m)       │             \u001b[38;5;34m0\u001b[0m │\n",
       "├─────────────────────────────────┼────────────────────────┼───────────────┤\n",
       "│ conv1d_1 (\u001b[38;5;33mConv1D\u001b[0m)               │ (\u001b[38;5;45mNone\u001b[0m, \u001b[38;5;34m996\u001b[0m, \u001b[38;5;34m128\u001b[0m)       │        \u001b[38;5;34m49,280\u001b[0m │\n",
       "├─────────────────────────────────┼────────────────────────┼───────────────┤\n",
       "│ dropout_1 (\u001b[38;5;33mDropout\u001b[0m)             │ (\u001b[38;5;45mNone\u001b[0m, \u001b[38;5;34m996\u001b[0m, \u001b[38;5;34m128\u001b[0m)       │             \u001b[38;5;34m0\u001b[0m │\n",
       "├─────────────────────────────────┼────────────────────────┼───────────────┤\n",
       "│ flatten (\u001b[38;5;33mFlatten\u001b[0m)               │ (\u001b[38;5;45mNone\u001b[0m, \u001b[38;5;34m127488\u001b[0m)         │             \u001b[38;5;34m0\u001b[0m │\n",
       "├─────────────────────────────────┼────────────────────────┼───────────────┤\n",
       "│ dense (\u001b[38;5;33mDense\u001b[0m)                   │ (\u001b[38;5;45mNone\u001b[0m, \u001b[38;5;34m3\u001b[0m)              │       \u001b[38;5;34m382,467\u001b[0m │\n",
       "└─────────────────────────────────┴────────────────────────┴───────────────┘\n"
      ]
     },
     "metadata": {},
     "output_type": "display_data"
    },
    {
     "data": {
      "text/html": [
       "<pre style=\"white-space:pre;overflow-x:auto;line-height:normal;font-family:Menlo,'DejaVu Sans Mono',consolas,'Courier New',monospace\"><span style=\"font-weight: bold\"> Total params: </span><span style=\"color: #00af00; text-decoration-color: #00af00\">432,261</span> (1.65 MB)\n",
       "</pre>\n"
      ],
      "text/plain": [
       "\u001b[1m Total params: \u001b[0m\u001b[38;5;34m432,261\u001b[0m (1.65 MB)\n"
      ]
     },
     "metadata": {},
     "output_type": "display_data"
    },
    {
     "data": {
      "text/html": [
       "<pre style=\"white-space:pre;overflow-x:auto;line-height:normal;font-family:Menlo,'DejaVu Sans Mono',consolas,'Courier New',monospace\"><span style=\"font-weight: bold\"> Trainable params: </span><span style=\"color: #00af00; text-decoration-color: #00af00\">432,259</span> (1.65 MB)\n",
       "</pre>\n"
      ],
      "text/plain": [
       "\u001b[1m Trainable params: \u001b[0m\u001b[38;5;34m432,259\u001b[0m (1.65 MB)\n"
      ]
     },
     "metadata": {},
     "output_type": "display_data"
    },
    {
     "data": {
      "text/html": [
       "<pre style=\"white-space:pre;overflow-x:auto;line-height:normal;font-family:Menlo,'DejaVu Sans Mono',consolas,'Courier New',monospace\"><span style=\"font-weight: bold\"> Non-trainable params: </span><span style=\"color: #00af00; text-decoration-color: #00af00\">0</span> (0.00 B)\n",
       "</pre>\n"
      ],
      "text/plain": [
       "\u001b[1m Non-trainable params: \u001b[0m\u001b[38;5;34m0\u001b[0m (0.00 B)\n"
      ]
     },
     "metadata": {},
     "output_type": "display_data"
    },
    {
     "data": {
      "text/html": [
       "<pre style=\"white-space:pre;overflow-x:auto;line-height:normal;font-family:Menlo,'DejaVu Sans Mono',consolas,'Courier New',monospace\"><span style=\"font-weight: bold\"> Optimizer params: </span><span style=\"color: #00af00; text-decoration-color: #00af00\">2</span> (12.00 B)\n",
       "</pre>\n"
      ],
      "text/plain": [
       "\u001b[1m Optimizer params: \u001b[0m\u001b[38;5;34m2\u001b[0m (12.00 B)\n"
      ]
     },
     "metadata": {},
     "output_type": "display_data"
    }
   ],
   "source": [
    "# Load the saved model from the model directory\n",
    "model_path = \"./Jamming_Detection_SDR/model/model_NewDataset.h5\"\n",
    "\n",
    "# Try to load the model with custom_objects parameter\n",
    "model = load_model(model_path, compile=True)\n",
    "print(f\"Successfully loaded model from {model_path}\")\n",
    "# Display model summary\n",
    "model.summary()"
   ]
  },
  {
   "cell_type": "code",
   "execution_count": 12,
   "id": "Gm1CHUvcZTNo",
   "metadata": {
    "cellUniqueIdByVincent": "3f897",
    "colab": {
     "base_uri": "https://localhost:8080/"
    },
    "id": "Gm1CHUvcZTNo",
    "outputId": "627bec6c-33e7-42f7-ced0-8a56d388d0b3"
   },
   "outputs": [
    {
     "name": "stdout",
     "output_type": "stream",
     "text": [
      "Model expects input shape: (None, 1000, 1)\n"
     ]
    }
   ],
   "source": [
    "# Check the model's input shape requirements\n",
    "def get_model_input_shape(model):\n",
    "    \"\"\"Extract the expected input shape from the model\"\"\"\n",
    "    try:\n",
    "        # Get the model's input shape directly\n",
    "        input_shape = model.input_shape\n",
    "        return input_shape\n",
    "    except AttributeError:\n",
    "        # Fallback: try to get the input shape from the first layer's input\n",
    "        try:\n",
    "            first_layer = model.layers[0]\n",
    "            # For functional models or some layer types\n",
    "            return first_layer.input_shape\n",
    "        except AttributeError:\n",
    "            # Last resort: get from the model's input spec\n",
    "            # This handles cases where the model is not built yet or input_shape is None\n",
    "            return model.inputs[0].shape\n",
    "\n",
    "# Call the function to get the input shape\n",
    "input_shape = get_model_input_shape(model)\n",
    "\n",
    "print(f\"Model expects input shape: {input_shape}\")\n",
    "\n",
    "# This function will be used after loading the model"
   ]
  },
  {
   "cell_type": "markdown",
   "id": "cFs4-VMGFc-l",
   "metadata": {
    "cellUniqueIdByVincent": "6d77f",
    "id": "cFs4-VMGFc-l"
   },
   "source": [
    "## Reshaping"
   ]
  },
  {
   "cell_type": "code",
   "execution_count": 13,
   "id": "xBInZQGNFcjR",
   "metadata": {
    "cellUniqueIdByVincent": "57315",
    "colab": {
     "base_uri": "https://localhost:8080/"
    },
    "id": "xBInZQGNFcjR",
    "outputId": "bfd9c75d-5fb4-4abe-a3f3-f83a18a6cdfa"
   },
   "outputs": [
    {
     "name": "stdout",
     "output_type": "stream",
     "text": [
      "Reshaped test data to: (600, 1000, 1)\n"
     ]
    }
   ],
   "source": [
    "# Reshape X_test to match model input requirements\n",
    "# Check the dimensionality requirements\n",
    "if input_shape[1] is not None:  # If the model expects a specific sequence length\n",
    "    # Get sample dimensionality\n",
    "    sample_dim = X_test.shape[1] if len(X_test.shape) > 1 else 1\n",
    "\n",
    "    # If samples are 1D and model expects 2D or 3D input\n",
    "    if len(input_shape) >= 3:\n",
    "        # Reshape to (samples, sequence_length, features)\n",
    "        # For Conv1D, we need at least 3 time steps for a kernel size of 3\n",
    "        sequence_length = max(3, input_shape[1]) if input_shape[1] is not None else 3\n",
    "\n",
    "        # If each sample is just a single value, we need to expand it\n",
    "        if sample_dim == 1:\n",
    "            print(\"Expanding single values to sequences...\")\n",
    "            # Create sequences by repeating each value\n",
    "            X_test_expanded = np.repeat(X_test, sequence_length).reshape(-1, sequence_length)\n",
    "            # Add feature dimension if needed\n",
    "            if len(input_shape) == 3:  # Model expects (batch, seq_len, features)\n",
    "                X_test = X_test_expanded.reshape(-1, sequence_length, 1)\n",
    "            else:\n",
    "                X_test = X_test_expanded\n",
    "        else:\n",
    "            # If samples already have multiple values, reshape appropriately\n",
    "            if len(input_shape) == 3:  # Model expects (batch, seq_len, features)\n",
    "                X_test = X_test.reshape(-1, X_test.shape[1], 1)\n",
    "\n",
    "    # If the model just expects a flattened input\n",
    "    elif len(input_shape) == 2:  # Model expects (batch, features)\n",
    "        X_test = X_test.reshape(X_test.shape[0], -1)\n",
    "\n",
    "print(f\"Reshaped test data to: {X_test.shape}\")"
   ]
  },
  {
   "cell_type": "code",
   "execution_count": 14,
   "id": "0SX1ATrpEcUx",
   "metadata": {
    "cellUniqueIdByVincent": "d5ad5",
    "colab": {
     "base_uri": "https://localhost:8080/"
    },
    "id": "0SX1ATrpEcUx",
    "outputId": "73624043-e06c-4590-8518-17fe5f78f1a2"
   },
   "outputs": [
    {
     "name": "stdout",
     "output_type": "stream",
     "text": [
      "\u001b[1m19/19\u001b[0m \u001b[32m━━━━━━━━━━━━━━━━━━━━\u001b[0m\u001b[37m\u001b[0m \u001b[1m1s\u001b[0m 35ms/step\n",
      "Accuracy: 0.9200\n",
      "\n",
      "Confusion Matrix:\n",
      "[[200   0   0]\n",
      " [  1 152  47]\n",
      " [  0   0 200]]\n",
      "\n",
      "Classification Report:\n",
      "                 precision    recall  f1-score   support\n",
      "\n",
      "         Normal       1.00      1.00      1.00       200\n",
      "Constant Jammer       1.00      0.76      0.86       200\n",
      "  Pulsed Jammer       0.81      1.00      0.89       200\n",
      "\n",
      "       accuracy                           0.92       600\n",
      "      macro avg       0.93      0.92      0.92       600\n",
      "   weighted avg       0.93      0.92      0.92       600\n",
      "\n"
     ]
    }
   ],
   "source": [
    "# Make predictions on the test data\n",
    "y_pred_probs = model.predict(X_test)\n",
    "\n",
    "# Convert probabilities to class labels\n",
    "y_pred = np.argmax(y_pred_probs, axis=1) if y_pred_probs.shape[1] > 1 else np.round(y_pred_probs).astype(int).flatten()\n",
    "\n",
    "# Calculate accuracy\n",
    "accuracy = accuracy_score(y_test, y_pred)\n",
    "print(f\"Accuracy: {accuracy:.4f}\")\n",
    "\n",
    "# Display confusion matrix\n",
    "cm = confusion_matrix(y_test, y_pred)\n",
    "print(\"\\nConfusion Matrix:\")\n",
    "print(cm)\n",
    "\n",
    "# Display detailed classification report\n",
    "print(\"\\nClassification Report:\")\n",
    "target_names = ['Normal', 'Constant Jammer', 'Pulsed Jammer']\n",
    "print(classification_report(y_test, y_pred, target_names=target_names))"
   ]
  },
  {
   "cell_type": "code",
   "execution_count": 15,
   "id": "PNSs_pxkEcUy",
   "metadata": {
    "cellUniqueIdByVincent": "0cff3",
    "colab": {
     "base_uri": "https://localhost:8080/",
     "height": 826
    },
    "id": "PNSs_pxkEcUy",
    "outputId": "237c153c-7911-4f0a-9351-a4075062b4ae"
   },
   "outputs": [
    {
     "data": {
      "image/png": "[encoded data removed]",
      "text/plain": [
       "<Figure size 1000x800 with 2 Axes>"
      ]
     },
     "metadata": {},
     "output_type": "display_data"
    }
   ],
   "source": [
    "# Visualize the confusion matrix\n",
    "plt.figure(figsize=(10, 8))\n",
    "\n",
    "# Use a color map that makes it clear which values are higher\n",
    "cm_normalized = cm.astype('float') / cm.sum(axis=1)[:, np.newaxis]\n",
    "\n",
    "plt.imshow(cm_normalized, interpolation='nearest', cmap=plt.cm.Blues)\n",
    "plt.title('Normalized Confusion Matrix')\n",
    "plt.colorbar()\n",
    "\n",
    "tick_marks = np.arange(len(target_names))\n",
    "plt.xticks(tick_marks, target_names, rotation=45)\n",
    "plt.yticks(tick_marks, target_names)\n",
    "\n",
    "# Add text annotations to each cell\n",
    "for i in range(cm.shape[0]):\n",
    "    for j in range(cm.shape[1]):\n",
    "        plt.text(j, i, f\"{cm[i, j]} ({cm_normalized[i, j]:.2f})\",\n",
    "                 ha=\"center\", va=\"center\",\n",
    "                 color=\"white\" if cm_normalized[i, j] > 0.5 else \"black\")\n",
    "\n",
    "plt.tight_layout()\n",
    "plt.ylabel('True label')\n",
    "plt.xlabel('Predicted label')\n",
    "plt.show()"
   ]
  },
  {
   "cell_type": "code",
   "execution_count": 9,
   "id": "5Sy2nPo3EcUy",
   "metadata": {
    "cellUniqueIdByVincent": "ed8ff",
    "colab": {
     "base_uri": "https://localhost:8080/",
     "height": 564
    },
    "id": "5Sy2nPo3EcUy",
    "outputId": "b4a2089d-f510-4161-ffb4-b1027855b39f"
   },
   "outputs": [
    {
     "data": {
      "image/png": "[encoded data removed]",
      "text/plain": [
       "<Figure size 1000x600 with 1 Axes>"
      ]
     },
     "metadata": {},
     "output_type": "display_data"
    }
   ],
   "source": [
    "# Create a bar chart comparing true vs predicted class distribution\n",
    "plt.figure(figsize=(10, 6))\n",
    "\n",
    "true_counts = np.bincount(y_test.astype(int), minlength=3)\n",
    "pred_counts = np.bincount(y_pred.astype(int), minlength=3)\n",
    "\n",
    "x = np.arange(len(target_names))\n",
    "width = 0.35\n",
    "\n",
    "plt.bar(x - width/2, true_counts, width, label='True Labels')\n",
    "plt.bar(x + width/2, pred_counts, width, label='Predicted Labels')\n",
    "\n",
    "plt.xlabel('Class')\n",
    "plt.ylabel('Number of Samples')\n",
    "plt.title('True vs Predicted Class Distribution')\n",
    "plt.xticks(x, target_names)\n",
    "plt.legend()\n",
    "plt.grid(axis='y', alpha=0.3)\n",
    "plt.show()"
   ]
  }
 ],
 "metadata": {
  "accelerator": "GPU",
  "colab": {
   "gpuType": "T4",
   "provenance": []
  },
  "kernelspec": {
   "display_name": "Python 3",
   "name": "python3"
  },
  "language_info": {
   "codemirror_mode": {
    "name": "ipython",
    "version": 3
   },
   "file_extension": ".py",
   "mimetype": "text/x-python",
   "name": "python",
   "nbconvert_exporter": "python",
   "pygments_lexer": "ipython3",
   "version": "3.7.12"
  },
  "vincent": {
   "sessionId": "a05bb047237f018238e79d95_2025-05-28T12-21-03-648Z"
  }
 },
 "nbformat": 4,
 "nbformat_minor": 5
}
